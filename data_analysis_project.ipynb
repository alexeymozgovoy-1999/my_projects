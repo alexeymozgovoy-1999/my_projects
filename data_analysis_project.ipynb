{
 "cells": [
  {
   "cell_type": "code",
   "execution_count": 1,
   "metadata": {},
   "outputs": [
    {
     "name": "stderr",
     "output_type": "stream",
     "text": [
      "/opt/tljh/user/lib/python3.7/site-packages/outdated/utils.py:18: OutdatedCacheFailedWarning: Failed to use cache while checking for outdated package.\n",
      "Set the environment variable OUTDATED_RAISE_EXCEPTION=1 for a full traceback.\n",
      "Set the environment variable OUTDATED_IGNORE=1 to disable these warnings.\n",
      "  **kwargs\n",
      "/opt/tljh/user/lib/python3.7/site-packages/outdated/utils.py:18: OutdatedPackageWarning: The package outdated is out of date. Your version is 0.2.1, the latest is 0.2.2.\n",
      "Set the environment variable OUTDATED_IGNORE=1 to disable these warnings.\n",
      "  **kwargs\n",
      "/opt/tljh/user/lib/python3.7/site-packages/outdated/utils.py:18: OutdatedPackageWarning: The package pingouin is out of date. Your version is 0.4.0, the latest is 0.5.5.\n",
      "Set the environment variable OUTDATED_IGNORE=1 to disable these warnings.\n",
      "  **kwargs\n"
     ]
    }
   ],
   "source": [
    "import pandas as pd\n",
    "import numpy as np\n",
    "from operator import attrgetter\n",
    "import seaborn as sns\n",
    "from matplotlib import pyplot as plt\n",
    "import pingouin as pg\n",
    "from scipy import stats\n",
    "from statsmodels.stats.proportion import proportions_ztest\n",
    "from scipy.stats import chi2_contingency"
   ]
  },
  {
   "cell_type": "markdown",
   "metadata": {},
   "source": [
    "# Task 1"
   ]
  },
  {
   "cell_type": "markdown",
   "metadata": {},
   "source": [
    "Retention is one of the most important metrics for the company. Your task is to write a function that calculates player retention (by days since player registration)."
   ]
  },
  {
   "cell_type": "code",
   "execution_count": 2,
   "metadata": {},
   "outputs": [],
   "source": [
    "def retention(reg_path, auth_path, period_days=30):\n",
    "    \"\"\"\n",
    "    Calculate user retention by registration month for specified period.\n",
    "    \n",
    "    Args:\n",
    "        reg_path (str): Path to registration data CSV\n",
    "        auth_path (str): Path to authentication data CSV\n",
    "        period_days (int): Retention period in days (30)\n",
    "    \n",
    "    Returns:\n",
    "        pd.DataFrame: Retention matrix with percentages (cohorts×days)\n",
    "    \"\"\"\n",
    "    #EDA\n",
    "    reg_data = pd.read_csv(reg_path, sep=';')\n",
    "    auth_data = pd.read_csv(auth_path, sep=';')\n",
    "    print(f\"Reg data: {len(reg_data)} rows, {reg_data['uid'].nunique()} unique users\")\n",
    "    print(f\"Auth data: {len(auth_data)} rows, {auth_data['uid'].nunique()} unique users\")\n",
    "    \n",
    "    # Process data\n",
    "    reg_data['reg_date'] = pd.to_datetime(reg_data['reg_ts'], unit='s')\n",
    "    auth_data['auth_date'] = pd.to_datetime(auth_data['auth_ts'], unit='s')\n",
    "    \n",
    "    merged_data = pd.merge(reg_data, auth_data, on='uid', how='left')\n",
    "    merged_data['day'] = (merged_data['auth_date'] - merged_data['reg_date']).dt.days\n",
    "    merged_data = merged_data[(merged_data['day'] >= 0) & (merged_data['day'] <= period_days)]\n",
    "    merged_data['cohort'] = merged_data['reg_date'].dt.to_period('M')\n",
    "    \n",
    "    # Calculate retention\n",
    "    cohort_size = merged_data.groupby('cohort')['uid'].nunique()\n",
    "    retention = merged_data.groupby(['cohort', 'day'])['uid'].nunique().unstack()\n",
    "    retention_rate = retention.div(cohort_size, axis=0) * 100\n",
    "    \n",
    "    # Return sample for better readability\n",
    "    return retention_rate.round(1).tail(10)"
   ]
  },
  {
   "cell_type": "code",
   "execution_count": 3,
   "metadata": {},
   "outputs": [
    {
     "name": "stdout",
     "output_type": "stream",
     "text": [
      "Reg data: 1000000 rows, 1000000 unique users\n",
      "Auth data: 9601013 rows, 1000000 unique users\n",
      "\n",
      "Retention matrix (sample):\n",
      "day         0    1    2    3    4    5    6    7    8    9   ...   21   22  \\\n",
      "cohort                                                       ...             \n",
      "2019-12  100.0  4.0  4.3  5.0  5.7  6.4  7.5  4.4  5.1  5.1  ...  3.7  3.9   \n",
      "2020-01  100.0  4.1  4.3  5.0  5.5  6.3  7.2  4.4  4.9  5.1  ...  3.8  3.5   \n",
      "2020-02  100.0  4.0  4.3  4.8  5.6  6.5  7.1  4.2  5.0  5.0  ...  3.7  3.6   \n",
      "2020-03  100.0  4.1  4.2  5.0  5.6  6.2  7.5  4.4  5.0  5.2  ...  3.6  3.7   \n",
      "2020-04  100.0  4.2  4.4  4.9  5.8  6.6  7.3  4.4  5.2  5.1  ...  3.9  3.8   \n",
      "2020-05  100.0  3.9  4.3  4.9  5.8  6.3  7.3  4.5  4.9  5.2  ...  3.9  3.8   \n",
      "2020-06  100.0  3.8  4.3  5.0  5.6  6.4  7.3  4.4  5.1  5.2  ...  3.7  3.8   \n",
      "2020-07  100.0  4.1  4.4  5.0  5.7  6.5  7.2  4.6  5.0  5.1  ...  3.8  3.8   \n",
      "2020-08  100.0  4.0  4.2  5.0  5.6  6.6  7.4  4.4  5.0  5.1  ...  3.9  3.7   \n",
      "2020-09  100.0  3.9  3.7  4.2  4.6  4.9  5.3  3.0  3.0  3.0  ...  0.2  0.0   \n",
      "\n",
      "day       23   24   25   26   27   28   29   30  \n",
      "cohort                                           \n",
      "2019-12  3.8  3.4  3.4  3.2  3.1  3.1  2.9  2.8  \n",
      "2020-01  3.6  3.2  3.3  3.2  3.0  3.1  2.9  2.6  \n",
      "2020-02  3.5  3.5  3.2  3.1  3.2  2.9  2.7  2.8  \n",
      "2020-03  3.6  3.4  3.5  3.2  3.2  3.0  2.9  2.6  \n",
      "2020-04  3.6  3.4  3.5  3.2  3.1  3.0  2.9  2.8  \n",
      "2020-05  3.7  3.6  3.4  3.3  3.0  2.9  3.1  3.0  \n",
      "2020-06  3.6  3.4  3.2  3.3  3.2  3.0  2.9  2.8  \n",
      "2020-07  3.6  3.3  3.5  3.2  3.1  3.0  2.9  2.7  \n",
      "2020-08  3.5  3.4  3.1  2.8  2.7  2.4  2.2  2.0  \n",
      "2020-09  NaN  NaN  NaN  NaN  NaN  NaN  NaN  NaN  \n",
      "\n",
      "[10 rows x 31 columns]\n"
     ]
    }
   ],
   "source": [
    "# Example usage with sample output\n",
    "retention_matrix = retention(\n",
    "    '/mnt/HC_Volume_18315164/home-jupyter/jupyter-aleksej-mozgovoj-t-9ff39/shared/problem1-reg_data.csv',\n",
    "    '/mnt/HC_Volume_18315164/home-jupyter/jupyter-aleksej-mozgovoj-t-9ff39/shared/problem1-auth_data.csv'\n",
    ")\n",
    "print(\"\\nRetention matrix (sample):\")\n",
    "print(retention_matrix)"
   ]
  },
  {
   "cell_type": "markdown",
   "metadata": {},
   "source": [
    "# Task 2"
   ]
  },
  {
   "cell_type": "markdown",
   "metadata": {},
   "source": [
    "There are results from an A/B test where two user groups were offered different sets of promotional offers. It is known that ARPU in the test group is 5% higher than in the control group. However, in the control group, 1,928 out of 202,103 players were paying users, while in the test group, 1,805 out of 202,667 were paying.\n",
    "\n",
    "Which set of offers should be considered better? What metrics should be analyzed to make the right decision, and how?"
   ]
  },
  {
   "cell_type": "code",
   "execution_count": 8,
   "metadata": {},
   "outputs": [
    {
     "name": "stdout",
     "output_type": "stream",
     "text": [
      "\n",
      "Hypothesis Formulation:\n",
      "H₀ (Null Hypothesis): There are no differences between the sentence sets in terms of key metrics.\n",
      "H₁ (Alternative Hypothesis): There are statistically significant differences between the sentence sets.\n",
      "\n"
     ]
    }
   ],
   "source": [
    "# Data uploading\n",
    "df = pd.read_csv('Проект_1_Задание_2.csv', sep=';')\n",
    "\n",
    "# Hypothesis Formulation\n",
    "print(\"\"\"\n",
    "Hypothesis Formulation:\n",
    "H₀ (Null Hypothesis): There are no differences between the sentence sets in terms of key metrics.\n",
    "H₁ (Alternative Hypothesis): There are statistically significant differences between the sentence sets.\n",
    "\"\"\")"
   ]
  },
  {
   "cell_type": "code",
   "execution_count": 9,
   "metadata": {},
   "outputs": [],
   "source": [
    "df = pd.read_csv('Проект_1_Задание_2.csv', sep = ';')\n",
    "df['log_revenue'] = np.log(df['revenue'] + 0.01)\n",
    "df_paying = df.query('revenue > 0')"
   ]
  },
  {
   "cell_type": "code",
   "execution_count": 10,
   "metadata": {},
   "outputs": [],
   "source": [
    "# Metrics calculation\n",
    "\n",
    "metrics = df.groupby('testgroup', as_index = False).agg(cnt=('user_id', 'nunique'), revenue=('revenue', 'sum'))\n",
    "metrics['ARPU'] = round(metrics['revenue'] / metrics['cnt'], 1)\n",
    "metrics['paying_users'] = metrics['testgroup'].apply(lambda x: 1928 if x == 'a' else 1805)\n",
    "metrics['ARPPU'] = round(metrics['revenue'] / metrics['paying_users'], 1)\n",
    "metrics['CR'] = metrics['paying_users'] / metrics['cnt'] * 100"
   ]
  },
  {
   "cell_type": "code",
   "execution_count": 11,
   "metadata": {},
   "outputs": [
    {
     "data": {
      "text/html": [
       "<div>\n",
       "<style scoped>\n",
       "    .dataframe tbody tr th:only-of-type {\n",
       "        vertical-align: middle;\n",
       "    }\n",
       "\n",
       "    .dataframe tbody tr th {\n",
       "        vertical-align: top;\n",
       "    }\n",
       "\n",
       "    .dataframe thead th {\n",
       "        text-align: right;\n",
       "    }\n",
       "</style>\n",
       "<table border=\"1\" class=\"dataframe\">\n",
       "  <thead>\n",
       "    <tr style=\"text-align: right;\">\n",
       "      <th></th>\n",
       "      <th>testgroup</th>\n",
       "      <th>cnt</th>\n",
       "      <th>revenue</th>\n",
       "      <th>ARPU</th>\n",
       "      <th>paying_users</th>\n",
       "      <th>ARPPU</th>\n",
       "      <th>CR</th>\n",
       "    </tr>\n",
       "  </thead>\n",
       "  <tbody>\n",
       "    <tr>\n",
       "      <th>0</th>\n",
       "      <td>a</td>\n",
       "      <td>202103</td>\n",
       "      <td>5136189</td>\n",
       "      <td>25.4</td>\n",
       "      <td>1928</td>\n",
       "      <td>2664.0</td>\n",
       "      <td>0.953969</td>\n",
       "    </tr>\n",
       "    <tr>\n",
       "      <th>1</th>\n",
       "      <td>b</td>\n",
       "      <td>202667</td>\n",
       "      <td>5421603</td>\n",
       "      <td>26.8</td>\n",
       "      <td>1805</td>\n",
       "      <td>3003.7</td>\n",
       "      <td>0.890624</td>\n",
       "    </tr>\n",
       "  </tbody>\n",
       "</table>\n",
       "</div>"
      ],
      "text/plain": [
       "  testgroup     cnt  revenue  ARPU  paying_users   ARPPU        CR\n",
       "0         a  202103  5136189  25.4          1928  2664.0  0.953969\n",
       "1         b  202667  5421603  26.8          1805  3003.7  0.890624"
      ]
     },
     "execution_count": 11,
     "metadata": {},
     "output_type": "execute_result"
    }
   ],
   "source": [
    "metrics"
   ]
  },
  {
   "cell_type": "code",
   "execution_count": 12,
   "metadata": {},
   "outputs": [
    {
     "data": {
      "text/plain": [
       "<matplotlib.axes._subplots.AxesSubplot at 0x7fcf32e6e048>"
      ]
     },
     "execution_count": 12,
     "metadata": {},
     "output_type": "execute_result"
    },
    {
     "data": {
      "image/png": "[encoded data removed]",
      "text/plain": [
       "<Figure size 432x288 with 1 Axes>"
      ]
     },
     "metadata": {
      "needs_background": "light"
     },
     "output_type": "display_data"
    }
   ],
   "source": [
    "sns.boxplot(data = df_paying, x = 'log_revenue', y = 'testgroup')"
   ]
  },
  {
   "cell_type": "code",
   "execution_count": 13,
   "metadata": {},
   "outputs": [],
   "source": [
    "#Bootstrap function\n",
    "\n",
    "def bootstrap_test(group1, group2, metric_func, n_iter=10000):\n",
    "    obs_diff = metric_func(group1) - metric_func(group2)\n",
    "    combined = np.concatenate([group1, group2])\n",
    "    bs_diffs = []\n",
    "    \n",
    "    for _ in range(n_iter):\n",
    "        bs_sample = np.random.choice(combined, size=len(combined), replace=True)\n",
    "        bs_diff = metric_func(bs_sample[:len(group1)]) - metric_func(bs_sample[len(group1):])\n",
    "        bs_diffs.append(bs_diff)\n",
    "    \n",
    "    p_value = (np.abs(np.array(bs_diffs)) >= np.abs(obs_diff)).mean()\n",
    "    return obs_diff, p_value"
   ]
  },
  {
   "cell_type": "code",
   "execution_count": 14,
   "metadata": {},
   "outputs": [],
   "source": [
    "control = df[df['testgroup'] == 'a']\n",
    "test = df[df['testgroup'] == 'b']"
   ]
  },
  {
   "cell_type": "code",
   "execution_count": 15,
   "metadata": {},
   "outputs": [
    {
     "data": {
      "text/plain": [
       "(-1.3375668563128222, 0.5257)"
      ]
     },
     "execution_count": 15,
     "metadata": {},
     "output_type": "execute_result"
    }
   ],
   "source": [
    "# ARPU test\n",
    "arpu_diff, arpu_p = bootstrap_test(control['revenue'], test['revenue'], np.mean)\n",
    "arpu_diff, arpu_p"
   ]
  },
  {
   "cell_type": "code",
   "execution_count": 16,
   "metadata": {},
   "outputs": [
    {
     "data": {
      "text/plain": [
       "(-339.65972776174976, 0.1046)"
      ]
     },
     "execution_count": 16,
     "metadata": {},
     "output_type": "execute_result"
    }
   ],
   "source": [
    "# ARPPU test\n",
    "arppu_diff, arppu_p = bootstrap_test(control[control['revenue'] > 0]['revenue'], \n",
    "                                    test[test['revenue'] > 0]['revenue'], np.mean)\n",
    "arppu_diff, arppu_p"
   ]
  },
  {
   "cell_type": "code",
   "execution_count": 17,
   "metadata": {},
   "outputs": [
    {
     "data": {
      "text/plain": [
       "(2.108028495889841, 0.035028524642854865)"
      ]
     },
     "execution_count": 17,
     "metadata": {},
     "output_type": "execute_result"
    }
   ],
   "source": [
    "# CR test\n",
    "count = np.array([1928, 1805])  # paying users\n",
    "nobs = np.array([202103, 202667])  # all users\n",
    "cr_zstat, cr_p = proportions_ztest(count, nobs)\n",
    "\n",
    "cr_zstat, cr_p"
   ]
  },
  {
   "cell_type": "code",
   "execution_count": 18,
   "metadata": {},
   "outputs": [
    {
     "name": "stdout",
     "output_type": "stream",
     "text": [
      "Size of control group: 202103\n",
      "Size of test group: 202667\n",
      "Ratio: 49.9% / 50.1%\n"
     ]
    }
   ],
   "source": [
    "# Sample Size Check\n",
    "\n",
    "print(f\"Size of control group: {len(control)}\")\n",
    "print(f\"Size of test group: {len(test)}\")\n",
    "print(f\"Ratio: {len(control)/len(df):.1%} / {len(test)/len(df):.1%}\")"
   ]
  },
  {
   "cell_type": "code",
   "execution_count": 19,
   "metadata": {},
   "outputs": [
    {
     "name": "stdout",
     "output_type": "stream",
     "text": [
      "\n",
      "Analysis Results:\n",
      "  testgroup     cnt  revenue  ARPU  paying_users   ARPPU        CR\n",
      "0         a  202103  5136189  25.4          1928  2664.0  0.953969\n",
      "1         b  202667  5421603  26.8          1805  3003.7  0.890624\n",
      "\n",
      "Statistical Significance of Differences:\n",
      "ARPU: p-value = 0.5257\n",
      "ARPPU: p-value = 0.1046\n",
      "CR (z-test): p-value = 0.0350\n"
     ]
    }
   ],
   "source": [
    "# Выводы\n",
    "print(\"\\nAnalysis Results:\")\n",
    "print(metrics)\n",
    "print(f\"\\nStatistical Significance of Differences:\")\n",
    "print(f\"ARPU: p-value = {arpu_p:.4f}\")\n",
    "print(f\"ARPPU: p-value = {arppu_p:.4f}\")\n",
    "print(f\"CR (z-test): p-value = {cr_p:.4f}\")"
   ]
  },
  {
   "cell_type": "markdown",
   "metadata": {},
   "source": [
    "Conclusions\n",
    "\n",
    "To make an informed decision, the following key metrics should be considered:\n",
    "\n",
    "ARPU: Higher in the test group, though the difference vs. control is not statistically significant.\n",
    "\n",
    "ARPPU: Higher in the test group, but the difference is not statistically significant.\n",
    "\n",
    "CR (Conversion Rate): Lower in the test group, with a statistically significant difference.\n",
    "\n",
    "The control group exhibits outliers in high-revenue users (123 players)—this could indicate either data collection errors or the presence of key high-spending players. Further investigation of this user segment is required.\n",
    "\n",
    "Risks of Adopting the Test Variant:\n",
    "A decline in paying users (CR) may negatively impact long-term monetization.\n",
    "\n",
    "The increase in ARPPU could be driven by a small number of high-value transactions.\n",
    "\n",
    "Recommendations:\n",
    "Reject the null hypothesis. The test variant should not be implemented, as the significant drop in CR outweighs the insignificant gains in ARPU/ARPPU.\n",
    "\n",
    "To validate these findings, samples should be recollected, as the current groups exhibit substantial differences (non-overlapping user segments in terms of spending levels). Potential causes include split system errors."
   ]
  },
  {
   "cell_type": "markdown",
   "metadata": {},
   "source": [
    "# Task 3"
   ]
  },
  {
   "cell_type": "markdown",
   "metadata": {},
   "source": [
    "In the game Plants & Gardens, limited-time thematic events are held every month. In these events, players can earn unique garden items, characters, extra coins, or bonuses. To receive rewards, players must complete a series of levels within a set time. What metrics can be used to evaluate the results of the latest event?\n",
    "\n",
    "Suppose, in another event, we modified the mechanics so that after each failed attempt to complete a level, the player is rolled back several levels. Would the set of evaluation metrics change? If yes, how?"
   ]
  },
  {
   "cell_type": "markdown",
   "metadata": {},
   "source": [
    "<p>To evaluate the results of the last completed event, the following metrics can be used:</p>\n",
    "\n",
    "<h3>Growth metrics:</h3>\n",
    "<ol>\n",
    "  <li>Activation conversion rate (how many users started participating in the event)</li>\n",
    "  <li>DAU (how the event affected user engagement in the game in terms of user numbers)</li>\n",
    "  <li>Churn rate (how many players left the event)</li>\n",
    "  <li>Event retention (how many players returned to the game to participate in the event)</li>\n",
    "</ol>\n",
    "\n",
    "<h3>Product metrics:</h3>\n",
    "<ol start=\"5\">\n",
    "  <li>Event completion rate (how many users completed the event)</li>\n",
    "  <li>Average session length for all users and for users who started the event (how the event affected user engagement in hours/minutes)</li>\n",
    "</ol>\n",
    "\n",
    "<p>If the event mechanics become more complex, the set of metrics will expand.</p>\n",
    "<p>The following metrics will be added:</p>\n",
    "\n",
    "<h3>Growth metrics:</h3>\n",
    "<ol start=\"7\">\n",
    "  <li>Retention after failed attempt (what motivation level users have)</li>\n",
    "</ol>\n",
    "\n",
    "<h3>Product metrics:</h3>\n",
    "<ol start=\"8\">\n",
    "  <li>Number of attempts to complete the nth level (which level is most difficult for players)</li>\n",
    "</ol>"
   ]
  }
 ],
 "metadata": {
  "kernelspec": {
   "display_name": "Python 3",
   "language": "python",
   "name": "python3"
  },
  "language_info": {
   "codemirror_mode": {
    "name": "ipython",
    "version": 3
   },
   "file_extension": ".py",
   "mimetype": "text/x-python",
   "name": "python",
   "nbconvert_exporter": "python",
   "pygments_lexer": "ipython3",
   "version": "3.7.3"
  }
 },
 "nbformat": 4,
 "nbformat_minor": 4
}
